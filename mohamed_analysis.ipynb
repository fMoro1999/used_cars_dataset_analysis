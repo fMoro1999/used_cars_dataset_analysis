{
 "cells": [
  {
   "cell_type": "code",
   "execution_count": 1,
   "metadata": {
    "ExecuteTime": {
     "end_time": "2020-12-03T12:29:10.431905Z",
     "start_time": "2020-12-03T12:29:10.389609Z"
    }
   },
   "outputs": [
    {
     "data": {
      "application/javascript": [
       "IPython.notebook.set_autosave_interval(30000)"
      ]
     },
     "metadata": {},
     "output_type": "display_data"
    },
    {
     "name": "stdout",
     "output_type": "stream",
     "text": [
      "Autosaving every 30 seconds\n"
     ]
    }
   ],
   "source": [
    "%autosave 30"
   ]
  },
  {
   "cell_type": "code",
   "execution_count": 2,
   "metadata": {
    "ExecuteTime": {
     "end_time": "2020-12-03T12:29:15.497977Z",
     "start_time": "2020-12-03T12:29:10.436824Z"
    }
   },
   "outputs": [],
   "source": [
    "import numpy as np\n",
    "import pandas as pd\n",
    "import plotly.express as px\n",
    "import plotly.graph_objects as go\n",
    "import plotly"
   ]
  },
  {
   "cell_type": "code",
   "execution_count": null,
   "metadata": {
    "ExecuteTime": {
     "start_time": "2020-12-03T12:29:10.352Z"
    }
   },
   "outputs": [],
   "source": [
    "df = pd.read_csv(\"resources/dataset/vehicles.csv\")\n",
    "# df = df.drop(columns=[\"url\",\"region_url\",\"image_url\"])\n",
    "# mask=(df[\"year\"]>2015.0) & (df[\"year\"]<2020)\n",
    "# dfByYear=df[mask]\n",
    "# dfByYear.to_csv(\"resources/dataset/filteredByYear.csv\", index=False)\n",
    "\n",
    "dfByYear = pd.read_csv(\"resources/dataset/filteredByYear.csv\")\n",
    "# dfByYear"
   ]
  },
  {
   "cell_type": "code",
   "execution_count": null,
   "metadata": {
    "ExecuteTime": {
     "start_time": "2020-12-03T12:29:10.363Z"
    }
   },
   "outputs": [],
   "source": [
    "occurrenciesByManufacturer = dfByYear.groupby(\n",
    "    [\"manufacturer\"]).size().reset_index(name=\"counts\")\n",
    "occurrenciesByManufacturer[\"relative_freq\"] = occurrenciesByManufacturer[\"counts\"] / \\\n",
    "    occurrenciesByManufacturer[\"counts\"].sum()\n",
    "occurrenciesByManufacturer = occurrenciesByManufacturer.sort_values(\n",
    "    'counts', ascending=True)\n",
    "\n",
    "figTitle = \"Number of traded cars for each manufacturer on Craigslist platform\"\n",
    "fig = px.bar(occurrenciesByManufacturer, y='manufacturer',\n",
    "             x='counts', text='counts', title=figTitle)\n",
    "fig.update_traces(texttemplate='%{text:.2s}', textposition='outside')\n",
    "fig.show()\n",
    "\n",
    "# save as html\n",
    "#plotly.offline.plot(fig, filename=f\"{figTitle}.html\")"
   ]
  }
 ],
 "metadata": {
  "hide_input": false,
  "kernelspec": {
   "display_name": "Python 3",
   "language": "python",
   "name": "python3"
  },
  "language_info": {
   "codemirror_mode": {
    "name": "ipython",
    "version": 3
   },
   "file_extension": ".py",
   "mimetype": "text/x-python",
   "name": "python",
   "nbconvert_exporter": "python",
   "pygments_lexer": "ipython3",
   "version": "3.8.3"
  },
  "varInspector": {
   "cols": {
    "lenName": 16,
    "lenType": 16,
    "lenVar": 40
   },
   "kernels_config": {
    "python": {
     "delete_cmd_postfix": "",
     "delete_cmd_prefix": "del ",
     "library": "var_list.py",
     "varRefreshCmd": "print(var_dic_list())"
    },
    "r": {
     "delete_cmd_postfix": ") ",
     "delete_cmd_prefix": "rm(",
     "library": "var_list.r",
     "varRefreshCmd": "cat(var_dic_list()) "
    }
   },
   "types_to_exclude": [
    "module",
    "function",
    "builtin_function_or_method",
    "instance",
    "_Feature"
   ],
   "window_display": false
  }
 },
 "nbformat": 4,
 "nbformat_minor": 4
}
