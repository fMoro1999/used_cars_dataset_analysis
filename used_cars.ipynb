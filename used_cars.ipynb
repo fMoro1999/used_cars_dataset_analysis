{
 "cells": [
  {
   "cell_type": "code",
   "execution_count": 1,
   "metadata": {},
   "outputs": [],
   "source": [
    "%autosave 30"
   ]
  },
  {
   "cell_type": "code",
   "execution_count": null,
   "metadata": {},
   "outputs": [],
   "source": [
    "import numpy as np\n",
    "import pandas as pd\n",
    "import plotly.express as px\n",
    "\n",
    "df = pd.read_csv(\"resources/dataset/vehicles.csv\")\n",
    "\n",
    "df = df.drop(columns=[\"url\",\"region_url\",\"image_url\"])\n",
    "\n",
    "dfByYear=pd.read_csv(\"resources/dataset/filteredByYear.csv\")\n",
    "\n",
    "dfByMan=dfByYear[df[\"manufacturer\"]==\"ford\"]\n",
    "\n",
    "dfByMan"
   ]
  },
  {
   "cell_type": "code",
   "execution_count": null,
   "metadata": {},
   "outputs": [],
   "source": [
    "print(dfByYear.columns)\n",
    "set(dfByYear[\"manufacturer\"])\n",
    "set(dfByYear[dfByYear[\"paint_color\"]==\"black\"].sum())"
   ]
  },
  {
   "cell_type": "code",
   "execution_count": null,
   "metadata": {},
   "outputs": [],
   "source": []
  },
  {
   "cell_type": "code",
   "execution_count": null,
   "metadata": {},
   "outputs": [],
   "source": []
  },
  {
   "cell_type": "code",
   "execution_count": null,
   "metadata": {},
   "outputs": [],
   "source": []
  }
 ],
 "metadata": {
  "kernelspec": {
   "display_name": "Python 3",
   "language": "python",
   "name": "python3"
  }
 },
 "nbformat": 4,
 "nbformat_minor": 4
}
