{
 "cells": [
  {
   "cell_type": "code",
   "execution_count": null,
   "metadata": {},
   "outputs": [],
   "source": [
    "%autosave 30"
   ]
  },
  {
   "cell_type": "code",
   "execution_count": null,
   "metadata": {},
   "outputs": [],
   "source": [
    "import numpy as np\n",
    "import pandas as pd\n",
    "import plotly.express as px\n",
    "import plotly.graph_objects as go\n",
    "import plotly"
   ]
  },
  {
   "cell_type": "code",
   "execution_count": null,
   "metadata": {},
   "outputs": [],
   "source": [
    "# df = pd.read_csv(\"resources/dataset/vehicles.csv\")\n",
    "# df = df.drop(columns=[\"url\",\"region_url\",\"image_url\"])\n",
    "\n",
    "# dfByYear=df[df[\"year\"]>2015.0]\n",
    "# dfByYear.to_csv(\"resources/dataset/filteredByYear.csv\", index=False)\n",
    "\n",
    "dfByYear=pd.read_csv(\"resources/dataset/filteredByYear.csv\")\n",
    "# dfByYear"
   ]
  },
  {
   "cell_type": "code",
   "execution_count": null,
   "metadata": {},
   "outputs": [],
   "source": [
    "occurrenciesByManufacturer = dfByYear.groupby([\"manufacturer\"]).size().reset_index(name=\"counts\")\n",
    "occurrenciesByManufacturer[\"relative_freq\"] = occurrenciesByManufacturer[\"counts\"]/occurrenciesByManufacturer[\"counts\"].sum()\n",
    "occurrenciesByManufacturer=occurrenciesByManufacturer.sort_values('counts',ascending=True)\n",
    "\n",
    "figTitle = \"Number of traded cars for each manufacturer on Craigslist platform\"\n",
    "fig = px.bar(occurrenciesByManufacturer, y='manufacturer', x='counts', text='counts', title=figTitle)\n",
    "fig.update_traces(texttemplate='%{text:.2s}', textposition='outside')\n",
    "fig.show()\n",
    "\n",
    "#save as html\n",
    "#plotly.offline.plot(fig, filename=f\"{figTitle}.html\")"
   ]
  },
  {
   "cell_type": "code",
   "execution_count": null,
   "metadata": {},
   "outputs": [],
   "source": []
  },
  {
   "cell_type": "code",
   "execution_count": null,
   "metadata": {},
   "outputs": [],
   "source": []
  }
 ],
 "metadata": {
  "kernelspec": {
   "display_name": "Python 3",
   "language": "python",
   "name": "python3"
  },
  "language_info": {
   "codemirror_mode": {
    "name": "ipython",
    "version": 3
   },
   "file_extension": ".py",
   "mimetype": "text/x-python",
   "name": "python",
   "nbconvert_exporter": "python",
   "pygments_lexer": "ipython3",
   "version": "3.8.3"
  }
 },
 "nbformat": 4,
 "nbformat_minor": 4
}
